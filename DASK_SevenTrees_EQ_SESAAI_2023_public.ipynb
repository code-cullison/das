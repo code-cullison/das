{
 "cells": [
  {
   "cell_type": "markdown",
   "id": "7005e79f",
   "metadata": {},
   "source": [
    "# Processing DAS data using DASK: Seven Trees Aftershock\n",
    "## SEP: June  2023\n",
    "### Thomas Cullison, 1st Year Geophysics \n",
    "\n",
    "<br><br>"
   ]
  },
  {
   "cell_type": "code",
   "execution_count": null,
   "id": "bb761d50",
   "metadata": {},
   "outputs": [],
   "source": [
    "import io\n",
    "import datetime\n",
    "import h5py\n",
    "import numba\n",
    "#import ipycytoscape #work in progress \"delayed function graph\"\n",
    "\n",
    "import numpy as np\n",
    "#import dask.dataframe as dd  #work in progress\n",
    "#import dask.array as da      #work in progress\n",
    "\n",
    "from scipy import signal\n",
    "from google.cloud import storage\n",
    "from dask.distributed import Client, wait\n",
    "from time import time\n",
    "from os import cpu_count\n",
    "\n",
    "start_time = time() #start timing of processing"
   ]
  },
  {
   "cell_type": "markdown",
   "id": "f92319cf",
   "metadata": {},
   "source": [
    "## Get Data from the Cloud: Function Defs"
   ]
  },
  {
   "cell_type": "code",
   "execution_count": null,
   "id": "6928f74c",
   "metadata": {},
   "outputs": [],
   "source": [
    "def gcs_download_to_local_disk(pargs,bucket=None,lpath=None):\n",
    "    \"\"\"\n",
    "       Function name explains it all\n",
    "    \"\"\"\n",
    "    fname, i = pargs\n",
    "    client = storage.Client()\n",
    "    bucket = client.get_bucket(bucket)\n",
    "    blobname = fname + '_min' + str(i+1).zfill(2) + '.npz' \n",
    "    blob = bucket.get_blob(blobname)\n",
    "    dfname = path+fname + '_min' + str(i+1).zfill(2) + '.npz' \n",
    "    blob.download_to_filename(dfname)\n",
    "    \n",
    "    \n",
    "def parallel_load_npz(pargs,path=None):\n",
    "    \"\"\"\n",
    "       Load DAS data from local disk\n",
    "    \"\"\"\n",
    "    fname, i = pargs\n",
    "    \n",
    "    dfname = path+fname + '_min' + str(i+1).zfill(2) + '.npz' \n",
    "    dt_data = np.load(dfname)\n",
    "    \n",
    "    return dt_data['data'], dt_data['time']"
   ]
  },
  {
   "cell_type": "markdown",
   "id": "8069abaa",
   "metadata": {},
   "source": [
    "## Setup List of Files to Read: (a priori Knowledge Req.)"
   ]
  },
  {
   "cell_type": "code",
   "execution_count": null,
   "id": "9880262e",
   "metadata": {},
   "outputs": [],
   "source": [
    "buckname = 'sep-allow-others' #kind of like the head/main directory -- Leave ALONE\n",
    "\n",
    "nfiles = 10 # Leave this ALONE"
   ]
  },
  {
   "cell_type": "markdown",
   "id": "96fc92c8",
   "metadata": {},
   "source": [
    "## Start Dask Distributed Cluster: (10 Threads at Most, One-per-file)"
   ]
  },
  {
   "cell_type": "code",
   "execution_count": null,
   "id": "0019d3b9",
   "metadata": {},
   "outputs": [],
   "source": [
    "ncore = cpu_count()\n",
    "nwork = min(nfiles,ncore) \n",
    "\n",
    "client = Client(n_workers=nwork,processes=True,threads_per_worker=1)\n",
    "#                   Be sure this is set ----^\n",
    "\n",
    "# show dash board link\n",
    "client"
   ]
  },
  {
   "cell_type": "markdown",
   "id": "caf74c6c",
   "metadata": {},
   "source": [
    "## Read All Files to Array -- Map to Threads : (Memory in Cluster)"
   ]
  },
  {
   "cell_type": "markdown",
   "id": "e3344edf",
   "metadata": {},
   "source": [
    "### Download files to local disk"
   ]
  },
  {
   "cell_type": "code",
   "execution_count": null,
   "id": "9d3f952e",
   "metadata": {},
   "outputs": [],
   "source": [
    "%%time\n",
    "\n",
    "path = './data/test/' # put YOUR local path here\n",
    "fname = 'oct_7trees_aftershock_das' # leading prefix. leave this ALONE \n",
    "\n",
    "lfname = [fname for i in range(nfiles)] \n",
    "lidxs = [i for i in range(nfiles)] \n",
    "pargs = list(zip(lfname,lidxs))\n",
    "    \n",
    "arrs = client.map(gcs_download_to_local_disk,pargs,bucket=buckname,lpath=path,pure=False)\n",
    "junk_futures = wait(arrs)"
   ]
  },
  {
   "cell_type": "markdown",
   "id": "dd4ee8f9",
   "metadata": {},
   "source": [
    "### Read compressed numpy arrays into memory"
   ]
  },
  {
   "cell_type": "code",
   "execution_count": null,
   "id": "80717a6c",
   "metadata": {},
   "outputs": [],
   "source": [
    "%%time \n",
    "\n",
    "# pargs: Same as above\n",
    "\n",
    "# Parallel part\n",
    "#with multiprocess.Pool(processes=nfiles) as pool:\n",
    "    #pool.starmap(parallel_load_npz, pargs) # Will copy memory (via return) to Host/Notebook\n",
    "    \n",
    "arrs = client.map(parallel_load_npz,pargs,path=path,pure=False)\n",
    "junk_futures = wait(arrs)"
   ]
  },
  {
   "cell_type": "markdown",
   "id": "20e823a2",
   "metadata": {},
   "source": [
    "## Gather Arrays to Notebook"
   ]
  },
  {
   "cell_type": "code",
   "execution_count": null,
   "id": "d1a6f2dd",
   "metadata": {},
   "outputs": [],
   "source": [
    "%%time\n",
    "\n",
    "gathered_data = client.gather(arrs,direct=True)\n",
    "client.who_has()"
   ]
  },
  {
   "cell_type": "markdown",
   "id": "a99c122b",
   "metadata": {},
   "source": [
    "## Clean-up Cluster Memory"
   ]
  },
  {
   "cell_type": "code",
   "execution_count": null,
   "id": "5cf88722",
   "metadata": {},
   "outputs": [],
   "source": [
    "%%time\n",
    "\n",
    "for t in arrs:\n",
    "    client.cancel(t)\n",
    "client.cancel(arrs)"
   ]
  },
  {
   "cell_type": "markdown",
   "id": "64b5f7c0",
   "metadata": {},
   "source": [
    "## Scale-down Cluster to One Thread: (Not the Same as Notebook Thread)"
   ]
  },
  {
   "cell_type": "code",
   "execution_count": null,
   "id": "edc10bca",
   "metadata": {},
   "outputs": [],
   "source": [
    "%%time\n",
    "\n",
    "client.cluster.scale(1)\n",
    "client.who_has()"
   ]
  },
  {
   "cell_type": "markdown",
   "id": "4a49b1c6",
   "metadata": {},
   "source": [
    "## Concatenate Arrays Over Time Axis: (Notebook Thread)"
   ]
  },
  {
   "cell_type": "code",
   "execution_count": null,
   "id": "ccfd1053",
   "metadata": {},
   "outputs": [],
   "source": [
    "%%time\n",
    "\n",
    "tup_list = list(map(list, zip(*gathered_data)))\n",
    "rdlist = tup_list[0]\n",
    "rtlist = tup_list[1]"
   ]
  },
  {
   "cell_type": "code",
   "execution_count": null,
   "id": "cea96143",
   "metadata": {
    "scrolled": true
   },
   "outputs": [],
   "source": [
    "%%time\n",
    "\n",
    "rdata = np.concatenate(rdlist,axis=1)\n",
    "tdata = np.concatenate(rtlist)\n",
    "\n",
    "del rdlist[:]\n",
    "del rdlist\n",
    "del rtlist[:]\n",
    "del rtlist"
   ]
  },
  {
   "cell_type": "markdown",
   "id": "015d677e",
   "metadata": {},
   "source": [
    "## Begin Processing: Function Defs"
   ]
  },
  {
   "cell_type": "code",
   "execution_count": null,
   "id": "13693b40",
   "metadata": {},
   "outputs": [],
   "source": [
    "@numba.njit(cache=True, fastmath=True, nogil=True, parallel=True)\n",
    "def remove_median_xchannel(orig_tr):\n",
    "    rmed_traces = orig_tr.copy()\n",
    "    for it in numba.prange(orig_tr.shape[-1]):\n",
    "        rmed_traces[:, it] -= np.median(orig_tr[:, it])\n",
    "    return rmed_traces\n",
    "\n",
    "\n",
    "# CANNOT jit ANY of the functions below\n",
    "\n",
    "def detrend_all_traces(orig_tr):\n",
    "    det_traces = orig_tr.copy()\n",
    "    for i in range(det_traces.shape[0]): # did this because scipy mem managment is not good enough\n",
    "        signal.detrend(det_traces[i],type='constant',overwrite_data=True)\n",
    "        signal.detrend(det_traces[i],type='linear',overwrite_data=True)\n",
    "    return det_traces\n",
    "\n",
    "\n",
    "def detrend_single_trace(orig_tr):\n",
    "    det_const = signal.detrend(orig_tr,type='constant')\n",
    "    det_trace = signal.detrend(det_const,type='linear')\n",
    "    del det_const\n",
    "    return det_trace\n",
    "\n",
    "\n",
    "    \n",
    "def bandpass_butter_single_trace(trace, fs=None, b0=None, bN=None, order=5):\n",
    "    sos = signal.butter(order, (b0,bN), 'bandpass', fs=fs, output='sos')\n",
    "    bp_trace = signal.sosfiltfilt(sos, trace)\n",
    "    return bp_trace\n",
    "\n",
    "\n",
    "\n",
    "def bandpass_butter_all_traces(orig_tr, fs=None, b0=None, bN=None, order=5):\n",
    "    bp_traces = np.zeros_like(orig_tr)\n",
    "    sos = signal.butter(order, (b0,bN), 'bandpass', fs=fs, output='sos')\n",
    "    for i in range(len(orig_tr)):\n",
    "        bp_traces[i,:] = signal.sosfiltfilt(sos, orig_tr[i])\n",
    "    return bp_traces\n",
    "\n",
    "\n",
    "def silly_decimate_single_trace(orig_tr,q=2):\n",
    "    return orig_tr[::q]\n",
    "    #return orig_tr[::q].copy() "
   ]
  },
  {
   "cell_type": "markdown",
   "id": "e727cfb2",
   "metadata": {},
   "source": [
    "## Scale-up Cluster for Data Processing: (All Cores)"
   ]
  },
  {
   "cell_type": "code",
   "execution_count": null,
   "id": "4778f5c8",
   "metadata": {},
   "outputs": [],
   "source": [
    "%%time\n",
    "client.cluster.scale(ncore)"
   ]
  },
  {
   "cell_type": "markdown",
   "id": "43f7b625",
   "metadata": {},
   "source": [
    "## Scatter Concatenated Data to All Cores (from Notebook to Cluster)"
   ]
  },
  {
   "cell_type": "code",
   "execution_count": null,
   "id": "0db8a157",
   "metadata": {},
   "outputs": [],
   "source": [
    "%%time\n",
    "future = client.scatter(list(rdata))\n",
    "junk = wait(future)"
   ]
  },
  {
   "cell_type": "markdown",
   "id": "35859031",
   "metadata": {},
   "source": [
    "## Detrend Data Per Channel: Multiple Channels Per Thread (Scheduler Decides)"
   ]
  },
  {
   "cell_type": "code",
   "execution_count": null,
   "id": "87974912",
   "metadata": {},
   "outputs": [],
   "source": [
    "%%time\n",
    "\n",
    "det_data = client.map(detrend_single_trace,future,pure=False)\n",
    "jink = wait(det_data) ## returns a \"reciept\"\n",
    "\n",
    "rdata_dtype = rdata.dtype #save for gathering\n",
    "del rdata #clean-up Notebook Memory"
   ]
  },
  {
   "cell_type": "markdown",
   "id": "6dc12b3d",
   "metadata": {},
   "source": [
    "## Bandpass Filter Per Channel: (Same as for Detrend)"
   ]
  },
  {
   "cell_type": "code",
   "execution_count": null,
   "id": "44105b7c",
   "metadata": {},
   "outputs": [],
   "source": [
    "%%time\n",
    "\n",
    "bl = 0.025\n",
    "br = 5.0\n",
    "fs = 200\n",
    "\n",
    "bp_data = client.map(bandpass_butter_single_trace,det_data,fs=fs,b0=bl,bN=br,pure=False)\n",
    "junk = wait(bp_data)"
   ]
  },
  {
   "cell_type": "markdown",
   "id": "b6ee115f",
   "metadata": {},
   "source": [
    "## Decimate Per Channel: (Slightly Faster than Serial)"
   ]
  },
  {
   "cell_type": "code",
   "execution_count": null,
   "id": "938a42e8",
   "metadata": {},
   "outputs": [],
   "source": [
    "%%time \n",
    "\n",
    "ss = 4\n",
    "bp_data = client.map(silly_decimate_single_trace,bp_data,q=ss,pure=False)\n",
    "junk = wait(bp_data)"
   ]
  },
  {
   "cell_type": "markdown",
   "id": "0c362aef",
   "metadata": {},
   "source": [
    "## Gather Processed Data: (From cluster to Notebook)"
   ]
  },
  {
   "cell_type": "code",
   "execution_count": null,
   "id": "6e349089",
   "metadata": {},
   "outputs": [],
   "source": [
    "%%time\n",
    "\n",
    "dec_bp_data = np.asarray(client.gather(bp_data,direct=True),dtype=rdata_dtype)\n",
    "#                          ^               #NOTE: ------------^\n",
    "#                          |\n",
    "# --- LOOK ----------------  # for some reason this is slightly faster than two lines of code\n",
    "\n",
    "\n",
    "# NOTE: np.vstack() has ~same RUNTIME as np.asarray()"
   ]
  },
  {
   "cell_type": "markdown",
   "id": "56c660be",
   "metadata": {},
   "source": [
    "## Release Cluster and Scheduler: (and All Related Resources, i.e. Memory, Cores, etc.)"
   ]
  },
  {
   "cell_type": "code",
   "execution_count": null,
   "id": "e49473f9",
   "metadata": {},
   "outputs": [],
   "source": [
    "%%time\n",
    "client.shutdown()\n",
    "client.close()"
   ]
  },
  {
   "cell_type": "markdown",
   "id": "8e4c8fa3",
   "metadata": {},
   "source": [
    "## X-Channel Median Removal Per Time-Sample: (Numba-Parallel)"
   ]
  },
  {
   "cell_type": "code",
   "execution_count": null,
   "id": "74b63f52",
   "metadata": {},
   "outputs": [],
   "source": [
    "%%time\n",
    "\n",
    "proc_data = remove_median_xchannel(dec_bp_data)\n",
    "\n",
    "del dec_bp_data"
   ]
  },
  {
   "cell_type": "markdown",
   "id": "b0aa796d",
   "metadata": {},
   "source": [
    "## Total Processing Time"
   ]
  },
  {
   "cell_type": "code",
   "execution_count": null,
   "id": "fff88068",
   "metadata": {},
   "outputs": [],
   "source": [
    "print('Done Processing')\n",
    "runtime = time() - start_time #start is in first cell\n",
    "print(f'runtime: {datetime.timedelta(seconds=runtime)}')"
   ]
  },
  {
   "cell_type": "markdown",
   "id": "4fbfc826",
   "metadata": {},
   "source": [
    "## Define function for plotting: (Serial)"
   ]
  },
  {
   "cell_type": "code",
   "execution_count": null,
   "id": "8d5d9ecf",
   "metadata": {},
   "outputs": [],
   "source": [
    "def plot_seven_trees_data(data,times,pclip=.95,fig_size=(9,10)):\n",
    "\n",
    "    import matplotlib.pyplot as plt\n",
    "\n",
    "    eqdate = datetime.datetime.utcfromtimestamp(times[0]//1000000)\n",
    "    start_c = 23000\n",
    "    end_c = 35000 \n",
    "    bounds = (0,nfiles*60,end_c,start_c)\n",
    "\n",
    "\n",
    "    vclip = (1-pclip)*np.abs(data[start_c:end_c+1,:]).max()\n",
    "\n",
    "\n",
    "    plt.figure(figsize=fig_size)\n",
    "    plt.imshow(data[start_c:end_c+1,:], aspect='auto', interpolation='none', cmap='gray', vmin=-vclip, vmax=vclip, extent=bounds)\n",
    "    plt.title('DAS for Seven Trees 1st-Aftershock, 3.1 EQ @' + str(eqdate) )\n",
    "    plt.xlabel('seconds from: ' + str(eqdate.time()))\n",
    "    plt.ylabel('channel')\n",
    "    \n",
    "    return plt"
   ]
  },
  {
   "cell_type": "markdown",
   "id": "285e0ed0",
   "metadata": {},
   "source": [
    "## 2D Plot of the Processed DAS Data: (Serial)"
   ]
  },
  {
   "cell_type": "code",
   "execution_count": null,
   "id": "97a594f8",
   "metadata": {},
   "outputs": [],
   "source": [
    "%%time\n",
    "\n",
    "pclip = .99\n",
    "print(f'pclip: {pclip}')\n",
    "\n",
    "plt = plot_seven_trees_data(proc_data,tdata,pclip=pclip)\n",
    "plt.show()"
   ]
  },
  {
   "cell_type": "code",
   "execution_count": null,
   "id": "e6dbd5ec",
   "metadata": {},
   "outputs": [],
   "source": []
  }
 ],
 "metadata": {
  "kernelspec": {
   "display_name": "Python 3 (ipykernel)",
   "language": "python",
   "name": "python3"
  },
  "language_info": {
   "codemirror_mode": {
    "name": "ipython",
    "version": 3
   },
   "file_extension": ".py",
   "mimetype": "text/x-python",
   "name": "python",
   "nbconvert_exporter": "python",
   "pygments_lexer": "ipython3",
   "version": "3.10.8"
  }
 },
 "nbformat": 4,
 "nbformat_minor": 5
}
